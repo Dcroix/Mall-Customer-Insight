{
 "cells": [
  {
   "cell_type": "markdown",
   "metadata": {},
   "source": [
    "## Clustering of Mall Customers using Kmeans++ Algorithm\n",
    "### Data Analytics with PySpark\n",
    "- Paolo G. Hilado"
   ]
  },
  {
   "cell_type": "markdown",
   "metadata": {},
   "source": [
    "#### <font color='steelblue'>SITUATIONER:</font> The administration is looking to cluster their customers in terms of features such as sex, age, annual income (in thousand), and spending score. This is to be used in making decisions for marketing and promotions purposes."
   ]
  },
  {
   "cell_type": "code",
   "execution_count": 1,
   "metadata": {},
   "outputs": [],
   "source": [
    "# Import the necessary packages\n",
    "import findspark\n",
    "findspark.init()\n",
    "from pyspark import SparkContext\n",
    "sc = SparkContext(master = 'local[6]')\n",
    "import pandas as pd\n",
    "import numpy as np\n",
    "from pyspark.mllib.clustering import KMeans, KMeansModel\n",
    "import matplotlib.pyplot as plt\n",
    "import researchpy as rp"
   ]
  },
  {
   "cell_type": "code",
   "execution_count": 141,
   "metadata": {},
   "outputs": [],
   "source": [
    "# Loading and Describing the Data\n",
    "dfa = pd.read_csv('Mall_Customer_Profile.csv')"
   ]
  },
  {
   "cell_type": "code",
   "execution_count": 142,
   "metadata": {},
   "outputs": [
    {
     "name": "stdout",
     "output_type": "stream",
     "text": [
      "<class 'pandas.core.frame.DataFrame'>\n",
      "RangeIndex: 5712 entries, 0 to 5711\n",
      "Data columns (total 4 columns):\n",
      " #   Column    Non-Null Count  Dtype \n",
      "---  ------    --------------  ----- \n",
      " 0   Sex       5712 non-null   object\n",
      " 1   Age       5712 non-null   int64 \n",
      " 2   AnnInc    5712 non-null   int64 \n",
      " 3   SpendScr  5712 non-null   int64 \n",
      "dtypes: int64(3), object(1)\n",
      "memory usage: 178.6+ KB\n"
     ]
    },
    {
     "data": {
      "text/plain": [
       "(      Sex  Age  AnnInc  SpendScr\n",
       " 0  Female   38     113        91\n",
       " 1    Male   35      93        90,\n",
       " None)"
      ]
     },
     "execution_count": 142,
     "metadata": {},
     "output_type": "execute_result"
    }
   ],
   "source": [
    "# Work on necessary features\n",
    "dfa = dfa.iloc[:, 3:]\n",
    "dfa.head(2), dfa.info() # Data has 1000 entries with 5 features; 1st feature is unnecessary,\n",
    "# 'Sex' is binary while 'Age', 'AnnInc' and 'Spend' seems to have been Standardized."
   ]
  },
  {
   "cell_type": "code",
   "execution_count": 139,
   "metadata": {},
   "outputs": [
    {
     "data": {
      "text/plain": [
       "Sex         0\n",
       "Age         0\n",
       "AnnInc      0\n",
       "SpendScr    0\n",
       "dtype: int64"
      ]
     },
     "execution_count": 139,
     "metadata": {},
     "output_type": "execute_result"
    }
   ],
   "source": [
    "dfa.isnull().sum() #All necessary data cleaning have been made and we are ready for clustering"
   ]
  },
  {
   "cell_type": "code",
   "execution_count": 143,
   "metadata": {},
   "outputs": [
    {
     "data": {
      "text/html": [
       "<div>\n",
       "<style scoped>\n",
       "    .dataframe tbody tr th:only-of-type {\n",
       "        vertical-align: middle;\n",
       "    }\n",
       "\n",
       "    .dataframe tbody tr th {\n",
       "        vertical-align: top;\n",
       "    }\n",
       "\n",
       "    .dataframe thead th {\n",
       "        text-align: right;\n",
       "    }\n",
       "</style>\n",
       "<table border=\"1\" class=\"dataframe\">\n",
       "  <thead>\n",
       "    <tr style=\"text-align: right;\">\n",
       "      <th></th>\n",
       "      <th>Age</th>\n",
       "      <th>AnnInc</th>\n",
       "      <th>Spend</th>\n",
       "    </tr>\n",
       "  </thead>\n",
       "  <tbody>\n",
       "    <tr>\n",
       "      <th>0</th>\n",
       "      <td>-0.037980</td>\n",
       "      <td>2.038968</td>\n",
       "      <td>1.573652</td>\n",
       "    </tr>\n",
       "    <tr>\n",
       "      <th>1</th>\n",
       "      <td>-0.255213</td>\n",
       "      <td>1.268319</td>\n",
       "      <td>1.534643</td>\n",
       "    </tr>\n",
       "    <tr>\n",
       "      <th>2</th>\n",
       "      <td>-1.196554</td>\n",
       "      <td>-1.544549</td>\n",
       "      <td>1.105545</td>\n",
       "    </tr>\n",
       "    <tr>\n",
       "      <th>3</th>\n",
       "      <td>-1.268965</td>\n",
       "      <td>-1.159225</td>\n",
       "      <td>0.871492</td>\n",
       "    </tr>\n",
       "    <tr>\n",
       "      <th>4</th>\n",
       "      <td>1.265416</td>\n",
       "      <td>0.728865</td>\n",
       "      <td>-0.610846</td>\n",
       "    </tr>\n",
       "  </tbody>\n",
       "</table>\n",
       "</div>"
      ],
      "text/plain": [
       "        Age    AnnInc     Spend\n",
       "0 -0.037980  2.038968  1.573652\n",
       "1 -0.255213  1.268319  1.534643\n",
       "2 -1.196554 -1.544549  1.105545\n",
       "3 -1.268965 -1.159225  0.871492\n",
       "4  1.265416  0.728865 -0.610846"
      ]
     },
     "execution_count": 143,
     "metadata": {},
     "output_type": "execute_result"
    }
   ],
   "source": [
    "# Standardize all continuous variables\n",
    "from sklearn.preprocessing import StandardScaler\n",
    "ndf = pd.DataFrame(StandardScaler().fit_transform(dfa.iloc[:, 1:]))\n",
    "ndf.rename(columns = {0:\"Age\", 1:\"AnnInc\", 2:\"Spend\"}, inplace = True)\n",
    "ndf.head()"
   ]
  },
  {
   "cell_type": "code",
   "execution_count": 144,
   "metadata": {},
   "outputs": [],
   "source": [
    "# Set up categorical variables for Sex\n",
    "dfa = pd.get_dummies(dfa, columns=['Sex'])\n",
    "dfa = dfa[[\"Sex_Male\", \"Sex_Female\", \"Age\", \"AnnInc\", \"SpendScr\"]]"
   ]
  },
  {
   "cell_type": "code",
   "execution_count": 69,
   "metadata": {},
   "outputs": [
    {
     "data": {
      "text/html": [
       "<div>\n",
       "<style scoped>\n",
       "    .dataframe tbody tr th:only-of-type {\n",
       "        vertical-align: middle;\n",
       "    }\n",
       "\n",
       "    .dataframe tbody tr th {\n",
       "        vertical-align: top;\n",
       "    }\n",
       "\n",
       "    .dataframe thead th {\n",
       "        text-align: right;\n",
       "    }\n",
       "</style>\n",
       "<table border=\"1\" class=\"dataframe\">\n",
       "  <thead>\n",
       "    <tr style=\"text-align: right;\">\n",
       "      <th></th>\n",
       "      <th>Sex_Male</th>\n",
       "      <th>Age</th>\n",
       "      <th>AnnInc</th>\n",
       "      <th>Spend</th>\n",
       "    </tr>\n",
       "  </thead>\n",
       "  <tbody>\n",
       "    <tr>\n",
       "      <th>0</th>\n",
       "      <td>0</td>\n",
       "      <td>-0.037980</td>\n",
       "      <td>2.038968</td>\n",
       "      <td>1.573652</td>\n",
       "    </tr>\n",
       "    <tr>\n",
       "      <th>1</th>\n",
       "      <td>1</td>\n",
       "      <td>-0.255213</td>\n",
       "      <td>1.268319</td>\n",
       "      <td>1.534643</td>\n",
       "    </tr>\n",
       "    <tr>\n",
       "      <th>2</th>\n",
       "      <td>1</td>\n",
       "      <td>-1.196554</td>\n",
       "      <td>-1.544549</td>\n",
       "      <td>1.105545</td>\n",
       "    </tr>\n",
       "    <tr>\n",
       "      <th>3</th>\n",
       "      <td>0</td>\n",
       "      <td>-1.268965</td>\n",
       "      <td>-1.159225</td>\n",
       "      <td>0.871492</td>\n",
       "    </tr>\n",
       "    <tr>\n",
       "      <th>4</th>\n",
       "      <td>0</td>\n",
       "      <td>1.265416</td>\n",
       "      <td>0.728865</td>\n",
       "      <td>-0.610846</td>\n",
       "    </tr>\n",
       "  </tbody>\n",
       "</table>\n",
       "</div>"
      ],
      "text/plain": [
       "   Sex_Male       Age    AnnInc     Spend\n",
       "0         0 -0.037980  2.038968  1.573652\n",
       "1         1 -0.255213  1.268319  1.534643\n",
       "2         1 -1.196554 -1.544549  1.105545\n",
       "3         0 -1.268965 -1.159225  0.871492\n",
       "4         0  1.265416  0.728865 -0.610846"
      ]
     },
     "execution_count": 69,
     "metadata": {},
     "output_type": "execute_result"
    }
   ],
   "source": [
    "# Organize the data set for modelling\n",
    "df = pd.concat([dfa.iloc[:, 0], ndf], axis = 1)\n",
    "df.head(5)"
   ]
  },
  {
   "cell_type": "code",
   "execution_count": 8,
   "metadata": {},
   "outputs": [],
   "source": [
    "# Partitioning the data set with 80-20 train_test_split\n",
    "from sklearn.model_selection import train_test_split"
   ]
  },
  {
   "cell_type": "code",
   "execution_count": 70,
   "metadata": {},
   "outputs": [
    {
     "data": {
      "text/plain": [
       "((4569, 4), (1143, 4))"
      ]
     },
     "execution_count": 70,
     "metadata": {},
     "output_type": "execute_result"
    }
   ],
   "source": [
    "features = df.drop('Spend', axis = 1)\n",
    "label = df['Spend']\n",
    "xtrain, xtest, ytrain, ytest = train_test_split(features, label, test_size = 0.2, random_state=100) \n",
    "train = pd.concat([xtrain, ytrain], axis = 1)\n",
    "test = pd.concat([xtest, ytest], axis = 1)\n",
    "train.shape, test.shape"
   ]
  },
  {
   "cell_type": "code",
   "execution_count": 71,
   "metadata": {},
   "outputs": [],
   "source": [
    "# Enable parallel processing with PySpark\n",
    "rddtrain = sc.parallelize(train.values)\n",
    "rddtest = sc.parallelize(test.values)"
   ]
  },
  {
   "cell_type": "code",
   "execution_count": 72,
   "metadata": {},
   "outputs": [
    {
     "data": {
      "image/png": "[encoded data removed]",
      "text/plain": [
       "<Figure size 432x432 with 1 Axes>"
      ]
     },
     "metadata": {
      "needs_background": "light"
     },
     "output_type": "display_data"
    }
   ],
   "source": [
    "import matplotlib.pyplot as plt\n",
    "# Determine the right number of centroids using the 'elbow' method\n",
    "# As shown by the visualization below, it looks like 4 centroids would be appropriate.\n",
    "sse = []\n",
    "list_k = list(range(1,10))\n",
    "\n",
    "for i in list_k:\n",
    "    mdl = KMeans.train(rddtrain, k= i, initializationMode = 'k-means||', maxIterations = 100)\n",
    "    err = mdl.computeCost(rddtest)\n",
    "    sse.append(err)\n",
    "\n",
    "plt.figure(figsize=(6, 6))\n",
    "plt.plot(list_k, sse, '-o')\n",
    "plt.xlabel(r'Number of Centroids')\n",
    "plt.ylabel('Sum of squared distance');"
   ]
  },
  {
   "cell_type": "code",
   "execution_count": 73,
   "metadata": {},
   "outputs": [],
   "source": [
    "# Now let us create the model with 5 centroids which we will use for clustering\n",
    "model = KMeans.train(rddtrain, k = 4, maxIterations=100, initializationMode = 'k-means||')\n",
    "pred = model.predict(rddtest)\n",
    "predict = pred.collect()\n",
    "dfclust = pd.concat([test.reset_index(drop = True), pd.DataFrame(predict)], axis = 1)\n",
    "dfclust = dfclust.rename(columns = {0: 'Cluster'})"
   ]
  },
  {
   "cell_type": "code",
   "execution_count": 75,
   "metadata": {},
   "outputs": [
    {
     "data": {
      "text/html": [
       "<div>\n",
       "<style scoped>\n",
       "    .dataframe tbody tr th:only-of-type {\n",
       "        vertical-align: middle;\n",
       "    }\n",
       "\n",
       "    .dataframe tbody tr th {\n",
       "        vertical-align: top;\n",
       "    }\n",
       "\n",
       "    .dataframe thead th {\n",
       "        text-align: right;\n",
       "    }\n",
       "</style>\n",
       "<table border=\"1\" class=\"dataframe\">\n",
       "  <thead>\n",
       "    <tr style=\"text-align: right;\">\n",
       "      <th></th>\n",
       "      <th>Sex_Male</th>\n",
       "      <th>Age</th>\n",
       "      <th>AnnInc</th>\n",
       "      <th>Spend</th>\n",
       "      <th>Cluster</th>\n",
       "    </tr>\n",
       "  </thead>\n",
       "  <tbody>\n",
       "    <tr>\n",
       "      <th>0</th>\n",
       "      <td>0</td>\n",
       "      <td>0.541307</td>\n",
       "      <td>-0.234446</td>\n",
       "      <td>-0.259766</td>\n",
       "      <td>0</td>\n",
       "    </tr>\n",
       "    <tr>\n",
       "      <th>1</th>\n",
       "      <td>0</td>\n",
       "      <td>-1.124144</td>\n",
       "      <td>0.382073</td>\n",
       "      <td>-0.844899</td>\n",
       "      <td>2</td>\n",
       "    </tr>\n",
       "    <tr>\n",
       "      <th>2</th>\n",
       "      <td>0</td>\n",
       "      <td>-0.037980</td>\n",
       "      <td>0.150878</td>\n",
       "      <td>-0.337783</td>\n",
       "      <td>2</td>\n",
       "    </tr>\n",
       "    <tr>\n",
       "      <th>3</th>\n",
       "      <td>0</td>\n",
       "      <td>-1.124144</td>\n",
       "      <td>0.382073</td>\n",
       "      <td>-0.844899</td>\n",
       "      <td>2</td>\n",
       "    </tr>\n",
       "    <tr>\n",
       "      <th>4</th>\n",
       "      <td>0</td>\n",
       "      <td>-0.255213</td>\n",
       "      <td>2.308695</td>\n",
       "      <td>1.105545</td>\n",
       "      <td>1</td>\n",
       "    </tr>\n",
       "  </tbody>\n",
       "</table>\n",
       "</div>"
      ],
      "text/plain": [
       "   Sex_Male       Age    AnnInc     Spend  Cluster\n",
       "0         0  0.541307 -0.234446 -0.259766        0\n",
       "1         0 -1.124144  0.382073 -0.844899        2\n",
       "2         0 -0.037980  0.150878 -0.337783        2\n",
       "3         0 -1.124144  0.382073 -0.844899        2\n",
       "4         0 -0.255213  2.308695  1.105545        1"
      ]
     },
     "execution_count": 75,
     "metadata": {},
     "output_type": "execute_result"
    }
   ],
   "source": [
    "# Showing the first ten rows now with cluster labels\n",
    "dfclust.head(5)"
   ]
  },
  {
   "cell_type": "code",
   "execution_count": 131,
   "metadata": {},
   "outputs": [
    {
     "data": {
      "text/html": [
       "<div>\n",
       "<style scoped>\n",
       "    .dataframe tbody tr th:only-of-type {\n",
       "        vertical-align: middle;\n",
       "    }\n",
       "\n",
       "    .dataframe tbody tr th {\n",
       "        vertical-align: top;\n",
       "    }\n",
       "\n",
       "    .dataframe thead th {\n",
       "        text-align: right;\n",
       "    }\n",
       "</style>\n",
       "<table border=\"1\" class=\"dataframe\">\n",
       "  <thead>\n",
       "    <tr style=\"text-align: right;\">\n",
       "      <th></th>\n",
       "      <th>Variable</th>\n",
       "      <th>Outcome</th>\n",
       "      <th>Count</th>\n",
       "      <th>Percent</th>\n",
       "    </tr>\n",
       "  </thead>\n",
       "  <tbody>\n",
       "    <tr>\n",
       "      <th>0</th>\n",
       "      <td>Cluster</td>\n",
       "      <td>0</td>\n",
       "      <td>367</td>\n",
       "      <td>32.11</td>\n",
       "    </tr>\n",
       "    <tr>\n",
       "      <th>1</th>\n",
       "      <td></td>\n",
       "      <td>3</td>\n",
       "      <td>342</td>\n",
       "      <td>29.92</td>\n",
       "    </tr>\n",
       "    <tr>\n",
       "      <th>2</th>\n",
       "      <td></td>\n",
       "      <td>1</td>\n",
       "      <td>223</td>\n",
       "      <td>19.51</td>\n",
       "    </tr>\n",
       "    <tr>\n",
       "      <th>3</th>\n",
       "      <td></td>\n",
       "      <td>2</td>\n",
       "      <td>211</td>\n",
       "      <td>18.46</td>\n",
       "    </tr>\n",
       "  </tbody>\n",
       "</table>\n",
       "</div>"
      ],
      "text/plain": [
       "  Variable  Outcome  Count  Percent\n",
       "0  Cluster        0    367    32.11\n",
       "1                 3    342    29.92\n",
       "2                 1    223    19.51\n",
       "3                 2    211    18.46"
      ]
     },
     "execution_count": 131,
     "metadata": {},
     "output_type": "execute_result"
    }
   ],
   "source": [
    "# Generate a frequency distribution of the clusters in the data frame\n",
    "rp.summary_cat(dfclust['Cluster'])"
   ]
  },
  {
   "cell_type": "code",
   "execution_count": 145,
   "metadata": {},
   "outputs": [
    {
     "data": {
      "text/html": [
       "<div>\n",
       "<style scoped>\n",
       "    .dataframe tbody tr th:only-of-type {\n",
       "        vertical-align: middle;\n",
       "    }\n",
       "\n",
       "    .dataframe tbody tr th {\n",
       "        vertical-align: top;\n",
       "    }\n",
       "\n",
       "    .dataframe thead th {\n",
       "        text-align: right;\n",
       "    }\n",
       "</style>\n",
       "<table border=\"1\" class=\"dataframe\">\n",
       "  <thead>\n",
       "    <tr style=\"text-align: right;\">\n",
       "      <th></th>\n",
       "      <th>Sex_Male</th>\n",
       "      <th>Sex_Female</th>\n",
       "      <th>Age</th>\n",
       "      <th>AnnInc</th>\n",
       "      <th>SpendScr</th>\n",
       "    </tr>\n",
       "    <tr>\n",
       "      <th>Cluster</th>\n",
       "      <th></th>\n",
       "      <th></th>\n",
       "      <th></th>\n",
       "      <th></th>\n",
       "      <th></th>\n",
       "    </tr>\n",
       "  </thead>\n",
       "  <tbody>\n",
       "    <tr>\n",
       "      <th>0.0</th>\n",
       "      <td>167</td>\n",
       "      <td>200</td>\n",
       "      <td>39.0</td>\n",
       "      <td>62.0</td>\n",
       "      <td>48.0</td>\n",
       "    </tr>\n",
       "    <tr>\n",
       "      <th>1.0</th>\n",
       "      <td>95</td>\n",
       "      <td>128</td>\n",
       "      <td>39.0</td>\n",
       "      <td>60.0</td>\n",
       "      <td>52.0</td>\n",
       "    </tr>\n",
       "    <tr>\n",
       "      <th>2.0</th>\n",
       "      <td>79</td>\n",
       "      <td>132</td>\n",
       "      <td>39.0</td>\n",
       "      <td>61.0</td>\n",
       "      <td>49.0</td>\n",
       "    </tr>\n",
       "    <tr>\n",
       "      <th>3.0</th>\n",
       "      <td>137</td>\n",
       "      <td>205</td>\n",
       "      <td>40.0</td>\n",
       "      <td>59.0</td>\n",
       "      <td>47.0</td>\n",
       "    </tr>\n",
       "  </tbody>\n",
       "</table>\n",
       "</div>"
      ],
      "text/plain": [
       "         Sex_Male  Sex_Female   Age  AnnInc  SpendScr\n",
       "Cluster                                              \n",
       "0.0           167         200  39.0    62.0      48.0\n",
       "1.0            95         128  39.0    60.0      52.0\n",
       "2.0            79         132  39.0    61.0      49.0\n",
       "3.0           137         205  40.0    59.0      47.0"
      ]
     },
     "execution_count": 145,
     "metadata": {},
     "output_type": "execute_result"
    }
   ],
   "source": [
    "# Check out the profile of customers per cluster\n",
    "dfa = pd.concat([dfa, dfclust.iloc[:, 4]], axis = 1)\n",
    "x = np.round(dfa.iloc[:,2:].groupby(\"Cluster\").mean(),0)\n",
    "y = dfa.groupby(\"Cluster\").sum()\n",
    "res = pd.concat([y.iloc[:,:2], x], axis=1)\n",
    "res"
   ]
  },
  {
   "cell_type": "markdown",
   "metadata": {},
   "source": [
    "#### <font color='steelblue'>Insights from the Clustering Model:</font>\n",
    "- Cluster 1 tend to have highest mean spending score (52) among all other clusters, having an estimated mean annual income of 60k dollars; advertisements on premium products would well be targeted to customers within this cluster. On the other hand, Cluster 3 presents the customers with the lowest mean spending score (47). Promotions and adverstisements on cost-effective products would well be targeted to this cluster of customers.  "
   ]
  }
 ],
 "metadata": {
  "celltoolbar": "Hide code",
  "kernelspec": {
   "display_name": "Python 3 (ipykernel)",
   "language": "python",
   "name": "python3"
  },
  "language_info": {
   "codemirror_mode": {
    "name": "ipython",
    "version": 3
   },
   "file_extension": ".py",
   "mimetype": "text/x-python",
   "name": "python",
   "nbconvert_exporter": "python",
   "pygments_lexer": "ipython3",
   "version": "3.10.0"
  }
 },
 "nbformat": 4,
 "nbformat_minor": 2
}
